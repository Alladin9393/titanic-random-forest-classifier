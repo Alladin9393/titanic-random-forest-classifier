{
 "cells": [
  {
   "cell_type": "code",
   "execution_count": 211,
   "metadata": {},
   "outputs": [],
   "source": [
    "import numpy as np\n",
    "import pandas as pd\n",
    "import matplotlib.pyplot as plt\n",
    "import seaborn as sns\n",
    "\n",
    "from sklearn.model_selection import cross_val_score, cross_val_predict\n",
    "\n",
    "from sklearn.svm import SVC\n",
    "from sklearn.naive_bayes import GaussianNB\n",
    "from sklearn.tree import DecisionTreeClassifier\n",
    "from sklearn.ensemble import RandomForestClassifier\n",
    "from sklearn.model_selection import GridSearchCV\n",
    "from sklearn.svm import SVC"
   ]
  },
  {
   "cell_type": "code",
   "execution_count": 212,
   "metadata": {},
   "outputs": [],
   "source": [
    "train_set = pd.read_csv('../data/train.csv')\n",
    "test_set = pd.read_csv('../data/test.csv')"
   ]
  },
  {
   "cell_type": "code",
   "execution_count": 213,
   "metadata": {},
   "outputs": [
    {
     "data": {
      "text/html": [
       "<div>\n",
       "<style scoped>\n",
       "    .dataframe tbody tr th:only-of-type {\n",
       "        vertical-align: middle;\n",
       "    }\n",
       "\n",
       "    .dataframe tbody tr th {\n",
       "        vertical-align: top;\n",
       "    }\n",
       "\n",
       "    .dataframe thead th {\n",
       "        text-align: right;\n",
       "    }\n",
       "</style>\n",
       "<table border=\"1\" class=\"dataframe\">\n",
       "  <thead>\n",
       "    <tr style=\"text-align: right;\">\n",
       "      <th></th>\n",
       "      <th>PassengerId</th>\n",
       "      <th>Pclass</th>\n",
       "      <th>Age</th>\n",
       "      <th>SibSp</th>\n",
       "      <th>Parch</th>\n",
       "      <th>Fare</th>\n",
       "    </tr>\n",
       "  </thead>\n",
       "  <tbody>\n",
       "    <tr>\n",
       "      <th>count</th>\n",
       "      <td>418.000000</td>\n",
       "      <td>418.000000</td>\n",
       "      <td>332.000000</td>\n",
       "      <td>418.000000</td>\n",
       "      <td>418.000000</td>\n",
       "      <td>417.000000</td>\n",
       "    </tr>\n",
       "    <tr>\n",
       "      <th>mean</th>\n",
       "      <td>1100.500000</td>\n",
       "      <td>2.265550</td>\n",
       "      <td>30.272590</td>\n",
       "      <td>0.447368</td>\n",
       "      <td>0.392344</td>\n",
       "      <td>35.627188</td>\n",
       "    </tr>\n",
       "    <tr>\n",
       "      <th>std</th>\n",
       "      <td>120.810458</td>\n",
       "      <td>0.841838</td>\n",
       "      <td>14.181209</td>\n",
       "      <td>0.896760</td>\n",
       "      <td>0.981429</td>\n",
       "      <td>55.907576</td>\n",
       "    </tr>\n",
       "    <tr>\n",
       "      <th>min</th>\n",
       "      <td>892.000000</td>\n",
       "      <td>1.000000</td>\n",
       "      <td>0.170000</td>\n",
       "      <td>0.000000</td>\n",
       "      <td>0.000000</td>\n",
       "      <td>0.000000</td>\n",
       "    </tr>\n",
       "    <tr>\n",
       "      <th>25%</th>\n",
       "      <td>996.250000</td>\n",
       "      <td>1.000000</td>\n",
       "      <td>21.000000</td>\n",
       "      <td>0.000000</td>\n",
       "      <td>0.000000</td>\n",
       "      <td>7.895800</td>\n",
       "    </tr>\n",
       "    <tr>\n",
       "      <th>50%</th>\n",
       "      <td>1100.500000</td>\n",
       "      <td>3.000000</td>\n",
       "      <td>27.000000</td>\n",
       "      <td>0.000000</td>\n",
       "      <td>0.000000</td>\n",
       "      <td>14.454200</td>\n",
       "    </tr>\n",
       "    <tr>\n",
       "      <th>75%</th>\n",
       "      <td>1204.750000</td>\n",
       "      <td>3.000000</td>\n",
       "      <td>39.000000</td>\n",
       "      <td>1.000000</td>\n",
       "      <td>0.000000</td>\n",
       "      <td>31.500000</td>\n",
       "    </tr>\n",
       "    <tr>\n",
       "      <th>max</th>\n",
       "      <td>1309.000000</td>\n",
       "      <td>3.000000</td>\n",
       "      <td>76.000000</td>\n",
       "      <td>8.000000</td>\n",
       "      <td>9.000000</td>\n",
       "      <td>512.329200</td>\n",
       "    </tr>\n",
       "  </tbody>\n",
       "</table>\n",
       "</div>"
      ],
      "text/plain": [
       "       PassengerId      Pclass         Age       SibSp       Parch        Fare\n",
       "count   418.000000  418.000000  332.000000  418.000000  418.000000  417.000000\n",
       "mean   1100.500000    2.265550   30.272590    0.447368    0.392344   35.627188\n",
       "std     120.810458    0.841838   14.181209    0.896760    0.981429   55.907576\n",
       "min     892.000000    1.000000    0.170000    0.000000    0.000000    0.000000\n",
       "25%     996.250000    1.000000   21.000000    0.000000    0.000000    7.895800\n",
       "50%    1100.500000    3.000000   27.000000    0.000000    0.000000   14.454200\n",
       "75%    1204.750000    3.000000   39.000000    1.000000    0.000000   31.500000\n",
       "max    1309.000000    3.000000   76.000000    8.000000    9.000000  512.329200"
      ]
     },
     "execution_count": 213,
     "metadata": {},
     "output_type": "execute_result"
    }
   ],
   "source": [
    "test_set.describe()"
   ]
  },
  {
   "cell_type": "code",
   "execution_count": 214,
   "metadata": {},
   "outputs": [],
   "source": [
    "def cat_plot(df, feature_name, target_name, palettemap): \n",
    "    fig, [axis0,axis1] = plt.subplots(1,2,figsize=(10,5))\n",
    "    df[feature_name].value_counts().plot.pie(autopct='%1.1f%%',ax=axis0)\n",
    "    sns.countplot(x=feature_name, hue=target_name, data=df,\n",
    "                  palette=palettemap,ax=axis1)\n",
    "    plt.show()\n",
    "\n",
    "    \n",
    "survival_palette = {0: \"black\", 1: \"orange\"} "
   ]
  },
  {
   "cell_type": "markdown",
   "metadata": {},
   "source": [
    "## Pclass"
   ]
  },
  {
   "cell_type": "code",
   "execution_count": 215,
   "metadata": {},
   "outputs": [
    {
     "data": {
      "image/png": "[encoded data removed]",
      "text/plain": [
       "<Figure size 720x360 with 2 Axes>"
      ]
     },
     "metadata": {
      "needs_background": "light"
     },
     "output_type": "display_data"
    }
   ],
   "source": [
    "cat_plot(train_set, 'Pclass','Survived', survival_palette)"
   ]
  },
  {
   "cell_type": "markdown",
   "metadata": {},
   "source": [
    "## Sex"
   ]
  },
  {
   "cell_type": "code",
   "execution_count": 216,
   "metadata": {},
   "outputs": [
    {
     "data": {
      "image/png": "[encoded data removed]",
      "text/plain": [
       "<Figure size 720x360 with 2 Axes>"
      ]
     },
     "metadata": {
      "needs_background": "light"
     },
     "output_type": "display_data"
    }
   ],
   "source": [
    "cat_plot(train_set, 'Sex','Survived', survival_palette)"
   ]
  },
  {
   "cell_type": "markdown",
   "metadata": {},
   "source": [
    "## SibSp"
   ]
  },
  {
   "cell_type": "code",
   "execution_count": 217,
   "metadata": {},
   "outputs": [
    {
     "data": {
      "image/png": "[encoded data removed]",
      "text/plain": [
       "<Figure size 720x360 with 2 Axes>"
      ]
     },
     "metadata": {
      "needs_background": "light"
     },
     "output_type": "display_data"
    }
   ],
   "source": [
    "cat_plot(train_set, 'SibSp', 'Survived', survival_palette)"
   ]
  },
  {
   "cell_type": "markdown",
   "metadata": {},
   "source": [
    "## Parch"
   ]
  },
  {
   "cell_type": "code",
   "execution_count": 218,
   "metadata": {},
   "outputs": [
    {
     "data": {
      "image/png": "[encoded data removed]",
      "text/plain": [
       "<Figure size 720x360 with 2 Axes>"
      ]
     },
     "metadata": {
      "needs_background": "light"
     },
     "output_type": "display_data"
    }
   ],
   "source": [
    "cat_plot(train_set, 'Parch', 'Survived', survival_palette)"
   ]
  },
  {
   "cell_type": "markdown",
   "metadata": {},
   "source": [
    "## The percentage of survivors"
   ]
  },
  {
   "cell_type": "code",
   "execution_count": 219,
   "metadata": {},
   "outputs": [
    {
     "name": "stdout",
     "output_type": "stream",
     "text": [
      "The percentage of survivors peoples: 38.38\n"
     ]
    }
   ],
   "source": [
    "survived = round((len(data.Survived[data.Survived == 1]) / data.Survived.count())*100, 2)\n",
    "print(f'The percentage of survivors peoples: {survived}')"
   ]
  },
  {
   "cell_type": "markdown",
   "metadata": {},
   "source": [
    "## Age"
   ]
  },
  {
   "cell_type": "code",
   "execution_count": 220,
   "metadata": {},
   "outputs": [
    {
     "name": "stdout",
     "output_type": "stream",
     "text": [
      "Mean: 29.7\n",
      "Median: 28.0\n"
     ]
    }
   ],
   "source": [
    "mean_age = round(data.Age.mean(), 2)\n",
    "med_age = data.Age.median()\n",
    "print(f'Mean: {mean_age}')\n",
    "print(f'Median: {med_age}')"
   ]
  },
  {
   "cell_type": "markdown",
   "metadata": {},
   "source": [
    "## Dataset Cleanup"
   ]
  },
  {
   "cell_type": "code",
   "execution_count": 221,
   "metadata": {},
   "outputs": [],
   "source": [
    "combined_set = [train_set, test_set]\n",
    "\n",
    "for dataset in combined_set:\n",
    "    dataset[\"Age\"].fillna(dataset[\"Age\"].median(), inplace=True)\n",
    "    dataset[\"Fare\"].fillna(dataset[\"Fare\"].median(), inplace=True)\n",
    "\n",
    "train_set[\"Embarked\"].fillna(train_set[\"Embarked\"].value_counts().index[0], inplace=True)"
   ]
  },
  {
   "cell_type": "code",
   "execution_count": 222,
   "metadata": {},
   "outputs": [],
   "source": [
    "age_bins = [0,15,35,45,60,200]\n",
    "age_labels = ['15-','15-35','35-45','40-60','60+']\n",
    "fare_bins = [0,10,30,60,999999]\n",
    "fare_labels = ['10-','10-30','30-60','60+']\n",
    "\n",
    "def get_title(dataset, feature_name):\n",
    "    return dataset[feature_name].map(lambda name:name.split(',')[1].split('.')[0].strip())\n",
    "\n",
    "for dataset in combined_set:\n",
    "    dataset['AgeRange'] = pd.cut(dataset['Age'], bins=age_bins, labels=age_labels, include_lowest=True)\n",
    "    dataset['FareRange'] = pd.cut(dataset['Fare'], bins=fare_bins, labels=fare_labels, include_lowest=True)\n",
    "    dataset['FamilySize'] = dataset['SibSp'] + train_set['Parch']\n",
    "    dataset['HasCabin'] = dataset['Cabin'].notnull().astype(int)\n",
    "    dataset['Title'] = get_title(dataset, 'Name')"
   ]
  },
  {
   "cell_type": "code",
   "execution_count": 223,
   "metadata": {},
   "outputs": [],
   "source": [
    "for dataset in combined_set:\n",
    "    dataset['Family'] = ''\n",
    "    dataset.loc[dataset['FamilySize'] == 0, 'Family'] = 'alone'\n",
    "    dataset.loc[(dataset['FamilySize'] > 0) & (dataset['FamilySize'] <= 3), 'Family'] = 'small'\n",
    "    dataset.loc[(dataset['FamilySize'] > 3) & (dataset['FamilySize'] <= 6), 'Family'] = 'medium'\n",
    "    dataset.loc[dataset['FamilySize'] > 6, 'Family'] = 'large'"
   ]
  },
  {
   "cell_type": "code",
   "execution_count": 224,
   "metadata": {},
   "outputs": [],
   "source": [
    "title_dict = {\n",
    "                \"Mr\" :        \"Mr\",\n",
    "                \"Miss\" :      \"Miss\",\n",
    "                \"Mrs\" :       \"Mrs\",\n",
    "                \"Master\" :    \"Master\",\n",
    "                \"Dr\":         \"Scholar\",\n",
    "                \"Rev\":        \"Religious\",\n",
    "                \"Col\":        \"Officer\",\n",
    "                \"Major\":      \"Officer\",\n",
    "                \"Mlle\":       \"Miss\",\n",
    "                \"Don\":        \"Noble\",\n",
    "                \"the Countess\":\"Noble\",\n",
    "                \"Ms\":         \"Mrs\",\n",
    "                \"Mme\":        \"Mrs\",\n",
    "                \"Capt\":       \"Noble\",\n",
    "                \"Lady\" :      \"Noble\",\n",
    "                \"Sir\" :       \"Noble\",\n",
    "                \"Jonkheer\":   \"Noble\"\n",
    "            }\n",
    "\n",
    "for dataset in combined_set:\n",
    "    dataset['TitleGroup'] = dataset.Title.map(title_dict)"
   ]
  },
  {
   "cell_type": "code",
   "execution_count": 225,
   "metadata": {},
   "outputs": [],
   "source": [
    "test_set.at[414, 'TitleGroup'] = 'Noble'"
   ]
  },
  {
   "cell_type": "code",
   "execution_count": 226,
   "metadata": {},
   "outputs": [],
   "source": [
    "X_train = train_set.drop(['Survived','PassengerId','Name','Age','Fare','Ticket','Cabin','SibSp','Parch','Title','FamilySize'], axis=1)\n",
    "X_test = test_set.drop(['PassengerId','Name','Age','Fare','Ticket','Cabin','SibSp','Parch','Title','FamilySize'], axis=1)\n",
    "\n",
    "y_train = train_set['Survived']"
   ]
  },
  {
   "cell_type": "code",
   "execution_count": 227,
   "metadata": {},
   "outputs": [],
   "source": [
    "X_train_analysis = X_train.copy()\n",
    "X_train_analysis['Sex'] = X_train_analysis['Sex'].map({'male': 0, 'female': 1}).astype(int)\n",
    "X_train_analysis['Embarked'] = X_train_analysis['Embarked'].map({'C': 0, 'Q': 1, 'S': 2}).astype(int)\n",
    "X_train_analysis['Family'] = X_train_analysis['Family'].map({'alone': 0, 'small': 1, 'medium': 2, 'large': 3}).astype(int)\n",
    "\n",
    "agerange_dict = dict(zip(age_labels, list(range(len(age_labels)))))\n",
    "X_train_analysis['AgeRange'] = X_train_analysis['AgeRange'].map(agerange_dict).astype(int)\n",
    "\n",
    "farerange_dict = dict(zip(fare_labels, list(range(len(fare_labels)))))\n",
    "X_train_analysis['FareRange'] = X_train_analysis['FareRange'].map(farerange_dict).astype(int)\n",
    "\n",
    "titlegroup_labels = list(set(title_dict.values()))\n",
    "titlegroup_dict = dict(zip(titlegroup_labels, list(range(len(titlegroup_labels)))))\n",
    "X_train_analysis['TitleGroup'] = X_train_analysis['TitleGroup'].map(titlegroup_dict).astype(int)"
   ]
  },
  {
   "cell_type": "code",
   "execution_count": 228,
   "metadata": {},
   "outputs": [
    {
     "name": "stdout",
     "output_type": "stream",
     "text": [
      "            Feature_Importance\n",
      "Sex                   0.271906\n",
      "TitleGroup            0.184821\n",
      "Pclass                0.119876\n",
      "Family                0.104346\n",
      "FareRange             0.100285\n",
      "AgeRange              0.097639\n",
      "HasCabin              0.063831\n",
      "Embarked              0.057296\n"
     ]
    }
   ],
   "source": [
    "rforest_checker = RandomForestClassifier(random_state = 0)\n",
    "rforest_checker.fit(X_train_analysis, y_train)\n",
    "importances_df = pd.DataFrame(rforest_checker.feature_importances_, columns=['Feature_Importance'],\n",
    "                              index=X_train_analysis.columns)\n",
    "importances_df.sort_values(by=['Feature_Importance'], ascending=False, inplace=True)\n",
    "print(importances_df)"
   ]
  },
  {
   "cell_type": "code",
   "execution_count": 229,
   "metadata": {},
   "outputs": [],
   "source": [
    "X_train = X_train.drop(['HasCabin','Embarked'], axis=1)\n",
    "X_test = X_test.drop(['HasCabin','Embarked'], axis=1)"
   ]
  },
  {
   "cell_type": "code",
   "execution_count": 230,
   "metadata": {},
   "outputs": [],
   "source": [
    "X_train = pd.get_dummies(X_train, columns=['TitleGroup','Family','Pclass','Sex','AgeRange','FareRange'])\n",
    "X_test = pd.get_dummies(X_test, columns=['TitleGroup','Family','Pclass','Sex','AgeRange','FareRange'])"
   ]
  },
  {
   "cell_type": "code",
   "execution_count": 231,
   "metadata": {},
   "outputs": [],
   "source": [
    "X_train = X_train.drop(['Pclass_1','Sex_female','TitleGroup_Master','AgeRange_15-','FareRange_10-','Family_alone', 'TitleGroup_Noble'], axis=1)\n",
    "X_test = X_test.drop(['Pclass_1','Sex_female','TitleGroup_Master','AgeRange_15-','FareRange_10-','Family_alone', 'TitleGroup_Noble'], axis=1)"
   ]
  },
  {
   "cell_type": "code",
   "execution_count": 232,
   "metadata": {},
   "outputs": [],
   "source": [
    "params_rforest = [{'n_estimators': [200, 300],\n",
    "                   'max_depth': [5, 7, 10],\n",
    "                   'min_samples_split': [2, 4]}]\n",
    "grid_rforest = GridSearchCV(estimator = RandomForestClassifier(criterion = 'gini', \n",
    "                                                               random_state = 0, n_jobs=-1),\n",
    "                            param_grid = params_rforest,\n",
    "                            scoring = 'accuracy',\n",
    "                            cv = 10,\n",
    "                            n_jobs=-1)\n",
    "grid_rforest = grid_rforest.fit(X_train, y_train)\n",
    "best_acc_rforest = grid_rforest.best_score_\n",
    "best_params_rforest = grid_rforest.best_params_"
   ]
  },
  {
   "cell_type": "code",
   "execution_count": 233,
   "metadata": {},
   "outputs": [],
   "source": [
    "params_dtree = [{'min_samples_split': [5, 10, 15, 20],\n",
    "                 'min_samples_leaf': [1, 2, 3],\n",
    "                 'max_features': ['auto', 'log2']}]\n",
    "grid_dtree = GridSearchCV(estimator = DecisionTreeClassifier(criterion = 'gini', \n",
    "                                                             random_state = 0),\n",
    "                            param_grid = params_dtree,\n",
    "                            scoring = 'accuracy',\n",
    "                            cv = 10,\n",
    "                            n_jobs=-1)\n",
    "grid_dtree = grid_dtree.fit(X_train, y_train)\n",
    "best_acc_dtree = grid_dtree.best_score_\n",
    "best_params_dtree = grid_dtree.best_params_"
   ]
  },
  {
   "cell_type": "code",
   "execution_count": 234,
   "metadata": {},
   "outputs": [],
   "source": [
    "params_ksvm = [{'C': [0.1, 1, 10, 100], 'kernel': ['linear']},\n",
    "               {'C': [0.1, 1, 10, 100], 'kernel': ['rbf'],\n",
    "                'gamma': [0.1, 0.2, 0.3, 0.4, 0.5]},\n",
    "               {'C': [0.1, 1, 10, 100], 'kernel': ['poly'],\n",
    "                'degree': [1, 2, 3],\n",
    "                'gamma': [0.1, 0.2, 0.3, 0.4, 0.5]}]\n",
    "grid_ksvm = GridSearchCV(estimator = SVC(random_state = 0),\n",
    "                         param_grid = params_ksvm,\n",
    "                         scoring = 'accuracy',\n",
    "                         cv = 10,\n",
    "                         n_jobs=-1)\n",
    "grid_ksvm = grid_ksvm.fit(X_train, y_train)  \n",
    "best_acc_ksvm = grid_ksvm.best_score_\n",
    "best_params_ksvm = grid_ksvm.best_params_"
   ]
  },
  {
   "cell_type": "code",
   "execution_count": null,
   "metadata": {},
   "outputs": [],
   "source": []
  },
  {
   "cell_type": "code",
   "execution_count": 235,
   "metadata": {},
   "outputs": [
    {
     "data": {
      "text/html": [
       "<div>\n",
       "<style scoped>\n",
       "    .dataframe tbody tr th:only-of-type {\n",
       "        vertical-align: middle;\n",
       "    }\n",
       "\n",
       "    .dataframe tbody tr th {\n",
       "        vertical-align: top;\n",
       "    }\n",
       "\n",
       "    .dataframe thead th {\n",
       "        text-align: right;\n",
       "    }\n",
       "</style>\n",
       "<table border=\"1\" class=\"dataframe\">\n",
       "  <thead>\n",
       "    <tr style=\"text-align: right;\">\n",
       "      <th></th>\n",
       "      <th>Best Score</th>\n",
       "      <th>Optimized Parameters</th>\n",
       "    </tr>\n",
       "  </thead>\n",
       "  <tbody>\n",
       "    <tr>\n",
       "      <th>Kernel SVM</th>\n",
       "      <td>0.835019</td>\n",
       "      <td>{'C': 1, 'gamma': 0.4, 'kernel': 'rbf'}</td>\n",
       "    </tr>\n",
       "    <tr>\n",
       "      <th>Decision Tree</th>\n",
       "      <td>0.820449</td>\n",
       "      <td>{'max_features': 'auto', 'min_samples_leaf': 1...</td>\n",
       "    </tr>\n",
       "    <tr>\n",
       "      <th>Random Forest</th>\n",
       "      <td>0.839538</td>\n",
       "      <td>{'max_depth': 7, 'min_samples_split': 4, 'n_es...</td>\n",
       "    </tr>\n",
       "  </tbody>\n",
       "</table>\n",
       "</div>"
      ],
      "text/plain": [
       "               Best Score                               Optimized Parameters\n",
       "Kernel SVM       0.835019            {'C': 1, 'gamma': 0.4, 'kernel': 'rbf'}\n",
       "Decision Tree    0.820449  {'max_features': 'auto', 'min_samples_leaf': 1...\n",
       "Random Forest    0.839538  {'max_depth': 7, 'min_samples_split': 4, 'n_es..."
      ]
     },
     "execution_count": 235,
     "metadata": {},
     "output_type": "execute_result"
    }
   ],
   "source": [
    "grid_score_dict = {'Best Score': [best_acc_ksvm,best_acc_dtree,best_acc_rforest],\n",
    "                   'Optimized Parameters': [best_params_ksvm,best_params_dtree,best_params_rforest],\n",
    "                  }\n",
    "pd.DataFrame(grid_score_dict, index=['Kernel SVM','Decision Tree','Random Forest'])"
   ]
  },
  {
   "cell_type": "code",
   "execution_count": 236,
   "metadata": {},
   "outputs": [],
   "source": [
    "rforest = RandomForestClassifier(max_depth = 7, min_samples_split=4, n_estimators = 200, random_state = 0) # Grid Search best parameters\n",
    "rforest.fit(X_train, y_train)\n",
    "y_pred_train_rforest = cross_val_predict(rforest, X_train, y_train)\n",
    "y_pred_test_rforest = rforest.predict(X_test)"
   ]
  },
  {
   "cell_type": "code",
   "execution_count": 238,
   "metadata": {},
   "outputs": [
    {
     "data": {
      "text/plain": [
       "0.8484848484848485"
      ]
     },
     "execution_count": 238,
     "metadata": {},
     "output_type": "execute_result"
    }
   ],
   "source": [
    "rforest.score(X_train, y_train)"
   ]
  },
  {
   "cell_type": "code",
   "execution_count": null,
   "metadata": {},
   "outputs": [],
   "source": [
    "X_test.head()"
   ]
  }
 ],
 "metadata": {
  "kernelspec": {
   "display_name": "Python 3",
   "language": "python",
   "name": "python3"
  },
  "language_info": {
   "codemirror_mode": {
    "name": "ipython",
    "version": 3
   },
   "file_extension": ".py",
   "mimetype": "text/x-python",
   "name": "python",
   "nbconvert_exporter": "python",
   "pygments_lexer": "ipython3",
   "version": "3.6.9"
  }
 },
 "nbformat": 4,
 "nbformat_minor": 2
}
